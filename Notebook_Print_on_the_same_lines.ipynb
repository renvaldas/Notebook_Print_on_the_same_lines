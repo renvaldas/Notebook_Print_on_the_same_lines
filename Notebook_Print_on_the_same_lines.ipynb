{
 "cells": [
  {
   "cell_type": "markdown",
   "metadata": {},
   "source": [
    "# Print on the same lines"
   ]
  },
  {
   "cell_type": "raw",
   "metadata": {},
   "source": [
    "More info here: \n",
    "https://stackoverflow.com/questions/42855972/printing-on-the-same-line-on-a-jupyter-notebook\n",
    "https://stackoverflow.com/questions/42212810/tqdm-in-jupyter-notebook"
   ]
  },
  {
   "cell_type": "code",
   "execution_count": 1,
   "metadata": {},
   "outputs": [
    {
     "name": "stdout",
     "output_type": "stream",
     "text": [
      "Done.\n"
     ]
    }
   ],
   "source": [
    "import time\n",
    "from IPython.display import clear_output\n",
    "\n",
    "for f in range(15):\n",
    "    clear_output(wait=True)\n",
    "    print(\"Dynamically updated: %i\" % (f * 33))\n",
    "    print(f)\n",
    "    time.sleep(0.3)\n",
    "clear_output(wait=True)\n",
    "print(\"Done.\")"
   ]
  },
  {
   "cell_type": "code",
   "execution_count": null,
   "metadata": {},
   "outputs": [],
   "source": []
  }
 ],
 "metadata": {
  "kernelspec": {
   "display_name": "Python 3",
   "language": "python",
   "name": "python3"
  },
  "language_info": {
   "codemirror_mode": {
    "name": "ipython",
    "version": 3
   },
   "file_extension": ".py",
   "mimetype": "text/x-python",
   "name": "python",
   "nbconvert_exporter": "python",
   "pygments_lexer": "ipython3",
   "version": "3.6.5"
  }
 },
 "nbformat": 4,
 "nbformat_minor": 2
}
